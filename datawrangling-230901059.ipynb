{
 "cells": [
  {
   "cell_type": "code",
   "execution_count": 8,
   "id": "441d5b8f",
   "metadata": {},
   "outputs": [],
   "source": [
    "import pandas as pd\n",
    "d1={\n",
    "    \"name\":[\"sri\",\"sai\",\"abi\"],\n",
    "    \"age\":[20,21,22]\n",
    "}\n",
    "d2={\n",
    "    \"qualified\":[True,True,False]\n",
    "}"
   ]
  },
  {
   "cell_type": "code",
   "execution_count": 9,
   "id": "f0c04551",
   "metadata": {},
   "outputs": [
    {
     "name": "stdout",
     "output_type": "stream",
     "text": [
      "  name  age\n",
      "0  sri   20\n",
      "1  sai   21\n",
      "2  abi   22\n",
      "   qualified\n",
      "0       True\n",
      "1       True\n",
      "2      False\n",
      "  name  age  qualified\n",
      "0  sri   20       True\n",
      "1  sai   21       True\n",
      "2  abi   22      False\n"
     ]
    }
   ],
   "source": [
    "#joining dataframe\n",
    "df1=pd.DataFrame(d1)\n",
    "print(df1)\n",
    "df2=pd.DataFrame(d2)\n",
    "print(df2)\n",
    "newdf=df1.join(df2)\n",
    "print(newdf)"
   ]
  },
  {
   "cell_type": "code",
   "execution_count": 12,
   "id": "0c0e7186",
   "metadata": {},
   "outputs": [
    {
     "name": "stdout",
     "output_type": "stream",
     "text": [
      "    name  age\n",
      "0    sai   20\n",
      "1  rishi   21\n",
      "2  thara   22\n",
      "     name  age\n",
      "0    yuvi   20\n",
      "1   pooja   21\n",
      "2  sanjay   22\n",
      "   name_x  age name_y\n",
      "0    yuvi   20    sai\n",
      "1   pooja   21  rishi\n",
      "2  sanjay   22  thara\n",
      "  name_x  age  name_y\n",
      "0    sai   20    yuvi\n",
      "1  rishi   21   pooja\n",
      "2  thara   22  sanjay\n"
     ]
    }
   ],
   "source": [
    "#merge\n",
    "d1={\n",
    "    \"name\":[\"sai\",\"rishi\",\"thara\"],\n",
    "    \"age\":[20,21,22]\n",
    "}\n",
    "d2={\n",
    "    \"name\":[\"yuvi\",\"pooja\",\"sanjay\"],\n",
    "    \"age\":[20,21,22]\n",
    "}\n",
    "df1=pd.DataFrame(d1)\n",
    "print(df1)\n",
    "df2=pd.DataFrame(d2)\n",
    "print(df2)\n",
    "newdf1=(df2.merge(df1,on=\"age\"))\n",
    "print(newdf1)\n",
    "#aliter\n",
    "newdf2=(df1.merge(df2,on=\"age\",how=\"left\"))\n",
    "print(newdf2)"
   ]
  },
  {
   "cell_type": "code",
   "execution_count": null,
   "id": "adb2ffc9",
   "metadata": {},
   "outputs": [],
   "source": []
  }
 ],
 "metadata": {
  "kernelspec": {
   "display_name": "Python 3 (ipykernel)",
   "language": "python",
   "name": "python3"
  },
  "language_info": {
   "codemirror_mode": {
    "name": "ipython",
    "version": 3
   },
   "file_extension": ".py",
   "mimetype": "text/x-python",
   "name": "python",
   "nbconvert_exporter": "python",
   "pygments_lexer": "ipython3",
   "version": "3.11.5"
  }
 },
 "nbformat": 4,
 "nbformat_minor": 5
}
